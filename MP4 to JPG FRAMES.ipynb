{
 "cells": [
  {
   "cell_type": "code",
   "execution_count": 1,
   "metadata": {},
   "outputs": [],
   "source": [
    "import cv2"
   ]
  },
  {
   "cell_type": "code",
   "execution_count": 8,
   "metadata": {},
   "outputs": [],
   "source": [
    "cap = cv2.VideoCapture(\"train.mp4\") # val.mp4\n",
    "\n",
    "# Get the video frame rate\n",
    "frame_rate = int(cap.get(cv2.CAP_PROP_FPS))\n",
    "\n",
    "# Calculate the frame interval\n",
    "frame_interval = int(frame_rate / 30)\n",
    "\n",
    "# Initialize frame counter\n",
    "count = 0\n",
    "\n",
    "# Loop through the frames\n",
    "while True:\n",
    "    # Read a frame\n",
    "    ret, frame = cap.read()\n",
    "    \n",
    "    # Break the loop if no frames left\n",
    "    if not ret:\n",
    "        break\n",
    "    \n",
    "    # Increment the frame counter\n",
    "    count += 1\n",
    "    \n",
    "    # Save every n-th frame where n is the frame interval\n",
    "    if count % frame_interval == 0:\n",
    "        image_number = count // frame_interval - 1\n",
    "        if image_number >= 1800:\n",
    "            break\n",
    "        image_name = \"{:04d}.jpg\".format(image_number)\n",
    "        cv2.imwrite(image_name, frame)\n",
    "\n",
    "# Release the video capture\n",
    "cap.release()\n",
    "\n",
    "# Close all windows\n",
    "cv2.destroyAllWindows()"
   ]
  },
  {
   "cell_type": "code",
   "execution_count": null,
   "metadata": {},
   "outputs": [],
   "source": []
  }
 ],
 "metadata": {
  "kernelspec": {
   "display_name": "Python 3",
   "language": "python",
   "name": "python3"
  },
  "language_info": {
   "codemirror_mode": {
    "name": "ipython",
    "version": 3
   },
   "file_extension": ".py",
   "mimetype": "text/x-python",
   "name": "python",
   "nbconvert_exporter": "python",
   "pygments_lexer": "ipython3",
   "version": "3.8.5"
  }
 },
 "nbformat": 4,
 "nbformat_minor": 4
}
