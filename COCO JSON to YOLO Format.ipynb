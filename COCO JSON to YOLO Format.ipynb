{
 "cells": [
  {
   "cell_type": "code",
   "execution_count": 1,
   "metadata": {},
   "outputs": [],
   "source": [
    "import json\n",
    "import os"
   ]
  },
  {
   "cell_type": "code",
   "execution_count": 5,
   "metadata": {},
   "outputs": [],
   "source": []
  },
  {
   "cell_type": "code",
   "execution_count": 13,
   "metadata": {},
   "outputs": [],
   "source": [
    "def convert_coco_to_yolo(coco_json_file, yolo_txt_dir):\n",
    "    \n",
    "    # load the COCO JSON file\n",
    "    with open(coco_json_file, 'r') as f:\n",
    "        coco = json.load(f)\n",
    "\n",
    "    # make sure the output directory exists\n",
    "    if not os.path.exists(yolo_txt_dir):\n",
    "        os.makedirs(yolo_txt_dir)\n",
    "\n",
    "    # loop over each image in the COCO dataset\n",
    "    for i, image in enumerate(coco['images']):\n",
    "        # get the image ID and file name\n",
    "        image_id = image['id']\n",
    "        file_name = image['file_name']\n",
    "\n",
    "        # create a separate text file for this image, formatted as 0000.txt, 0001.txt, etc.\n",
    "        yolo_txt_file = os.path.join(yolo_txt_dir, f\"{str(i).zfill(4)}.txt\")\n",
    "        with open(yolo_txt_file, 'w') as f:\n",
    "            # get the annotations for this image\n",
    "            annotations = [ann for ann in coco['annotations'] if ann['image_id'] == image_id]\n",
    "\n",
    "            # write the annotations for this image to the YOLO text file\n",
    "            for ann in annotations:\n",
    "                x, y, w, h = ann['bbox']\n",
    "                category_id = ann['category_id']\n",
    "                \n",
    "                if category_id == 1:\n",
    "                    category_id = 0\n",
    "                elif category_id == 2:\n",
    "                    category_id = 1\n",
    "    \n",
    "                x_center = (x + (w / 2)) / image['width']\n",
    "                y_center = (y + (h / 2)) / image['height']\n",
    "                width = w / image['width']\n",
    "                height = h / image['height']\n",
    "                line = f\"{category_id} {x_center:.6f} {y_center:.6f} {width:.6f} {height:.6f}\"\n",
    "                f.write(line + '\\n')\n",
    "\n",
    "if __name__ == '__main__':\n",
    "    \n",
    "    # specify the input COCO JSON file and output YOLO text directory\n",
    "    \n",
    "    coco_json_file = 'COCO JSON FILE PATH'\n",
    "    yolo_txt_dir = 'YOLO FOLDER PATH TO STORE .txt FILES'\n",
    "\n",
    "    # convert the COCO JSON file to YOLO format\n",
    "    convert_coco_to_yolo(coco_json_file, yolo_txt_dir)"
   ]
  },
  {
   "cell_type": "code",
   "execution_count": null,
   "metadata": {},
   "outputs": [],
   "source": []
  },
  {
   "cell_type": "code",
   "execution_count": null,
   "metadata": {},
   "outputs": [],
   "source": []
  }
 ],
 "metadata": {
  "kernelspec": {
   "display_name": "Python 3",
   "language": "python",
   "name": "python3"
  },
  "language_info": {
   "codemirror_mode": {
    "name": "ipython",
    "version": 3
   },
   "file_extension": ".py",
   "mimetype": "text/x-python",
   "name": "python",
   "nbconvert_exporter": "python",
   "pygments_lexer": "ipython3",
   "version": "3.8.5"
  }
 },
 "nbformat": 4,
 "nbformat_minor": 5
}
